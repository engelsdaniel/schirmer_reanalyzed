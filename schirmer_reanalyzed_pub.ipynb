{
 "cells": [
  {
   "cell_type": "markdown",
   "metadata": {},
   "source": [
    "<h1>snRNA-seq re-analysis (Schirmer et al., Nature, 2019)"
   ]
  },
  {
   "cell_type": "code",
   "execution_count": null,
   "metadata": {},
   "outputs": [],
   "source": [
    "# load libraries\n",
    "library(devtools)\n",
    "library(Seurat)\n",
    "library(dplyr)\n",
    "library(Matrix)\n",
    "library(ggplot2)"
   ]
  },
  {
   "cell_type": "code",
   "execution_count": 3,
   "metadata": {},
   "outputs": [],
   "source": [
    "library(tidyverse)\n",
    "library(Seurat)\n",
    "library(Polychrome)"
   ]
  },
  {
   "cell_type": "code",
   "execution_count": null,
   "metadata": {},
   "outputs": [],
   "source": [
    "# import UMI matrix from CellRanger\n",
    "matrix_dir = \"XXX\" # inster directory here\n",
    "data_raw = Read10X(data.dir = matrix_dir)\n",
    "data = CreateSeuratObject(counts = data_raw, project = \"snRNA-seq\", min.cells = 3, min.features = 200)"
   ]
  },
  {
   "cell_type": "code",
   "execution_count": null,
   "metadata": {},
   "outputs": [],
   "source": [
    "# calculate the percentage of mitochondrial features\n",
    "mito.features = grep(pattern = \"^MT-\", x = rownames(x = data), value = TRUE)\n",
    "percent.mito = Matrix::colSums(x = GetAssayData(object = data, slot = 'counts')[mito.features, ]) / Matrix::colSums(x = GetAssayData(object = data, slot = 'counts'))\n",
    "data[['percent.mito']] = percent.mito # store information"
   ]
  },
  {
   "cell_type": "code",
   "execution_count": null,
   "metadata": {},
   "outputs": [],
   "source": [
    "# filter out cells that have unique feature counts over 5000 or less than 200\n",
    "data = subset(data, subset = nFeature_RNA > 500 & nCount_RNA > 1000)"
   ]
  },
  {
   "cell_type": "code",
   "execution_count": null,
   "metadata": {},
   "outputs": [],
   "source": [
    "# Normalizing the data\n",
    "data = NormalizeData(data, normalization.method = \"LogNormalize\", scale.factor = 1e4)"
   ]
  },
  {
   "cell_type": "code",
   "execution_count": null,
   "metadata": {},
   "outputs": [],
   "source": [
    "# detection of variable genes across the single cells\n",
    "data <- FindVariableFeatures(data, selection.method = 'mean.var.plot', mean.cutoff = c(0.0125, 3), dispersion.cutoff = c(0.5, Inf))"
   ]
  },
  {
   "cell_type": "code",
   "execution_count": null,
   "metadata": {},
   "outputs": [],
   "source": [
    "# remove MT genes\n",
    "markers.remove <- grep(pattern = \"^MT-\",  x = rownames(data), value = TRUE)"
   ]
  },
  {
   "cell_type": "code",
   "execution_count": null,
   "metadata": {},
   "outputs": [],
   "source": [
    "data@assays$RNA@var.features <- data@assays$RNA@var.features[!(data@assays$RNA@var.features%in%markers.remove)]"
   ]
  },
  {
   "cell_type": "code",
   "execution_count": null,
   "metadata": {},
   "outputs": [],
   "source": [
    "# scaling the data and removing unwanted sources of variation\n",
    "data = ScaleData(data)"
   ]
  },
  {
   "cell_type": "code",
   "execution_count": null,
   "metadata": {},
   "outputs": [],
   "source": [
    "# perform linear dimensional reduction\n",
    "data = RunPCA(data, features = VariableFeatures(data), verbose = FALSE)\n",
    "# examine and visualize PCA results a few different ways\n",
    "print(x = data[['pca']], dims = 1:5, nfeatures = 5, projected = FALSE)"
   ]
  },
  {
   "cell_type": "code",
   "execution_count": null,
   "metadata": {},
   "outputs": [],
   "source": [
    "# get batches based on cell names\n",
    "samples_batches = sapply(colnames(GetAssayData(data, slot = \"counts\")),\n",
    "                      FUN=function(x){substr(x,18,19)})"
   ]
  },
  {
   "cell_type": "code",
   "execution_count": null,
   "metadata": {},
   "outputs": [],
   "source": [
    "# turn to numbers and add cell names to them\n",
    "samples_batches = as.numeric(as.factor(samples_batches))\n",
    "names(samples_batches) = colnames(GetAssayData(data, slot = \"counts\"))"
   ]
  },
  {
   "cell_type": "code",
   "execution_count": null,
   "metadata": {},
   "outputs": [],
   "source": [
    "# Plot genes per cell\n",
    "# Complexity per technical batch\n",
    "complexity.per.cell = apply(GetAssayData(object = csf, slot = \"counts\"),\n",
    "                             2, function(x) sum(x>0))\n",
    "plot(complexity.per.cell ~ jitter(samples_batches,2))"
   ]
  },
  {
   "cell_type": "code",
   "execution_count": null,
   "metadata": {},
   "outputs": [],
   "source": [
    "sample.effect = samples_batches\n",
    "data = AddMetaData(data, sample.effect, \"sample.effect\")"
   ]
  },
  {
   "cell_type": "code",
   "execution_count": null,
   "metadata": {},
   "outputs": [],
   "source": [
    "for (i in 1:length(x = data.list)) {\n",
    "    data.list[[i]] = NormalizeData(object = data.list[[i]], verbose = FALSE)\n",
    "    data.list[[i]] = FindVariableFeatures(object = data.list[[i]], \n",
    "        selection.method = \"vst\", nfeatures = 2000, verbose = FALSE)\n",
    "}"
   ]
  },
  {
   "cell_type": "code",
   "execution_count": null,
   "metadata": {
    "jupyter": {
     "outputs_hidden": true
    }
   },
   "outputs": [],
   "source": [
    "reference.list <- csf.list\n",
    "csf.anchors <- FindIntegrationAnchors(object.list = reference.list, dims = 1:30)"
   ]
  },
  {
   "cell_type": "code",
   "execution_count": null,
   "metadata": {},
   "outputs": [],
   "source": [
    "data.integrated = IntegrateData(anchorset = data.anchors, dims = 1:30)"
   ]
  },
  {
   "cell_type": "code",
   "execution_count": null,
   "metadata": {},
   "outputs": [],
   "source": [
    "# switch to integrated assay\n",
    "DefaultAssay(object = data.integrated) <- \"integrated\""
   ]
  },
  {
   "cell_type": "code",
   "execution_count": null,
   "metadata": {},
   "outputs": [],
   "source": [
    "# Scaling the data and removing unwanted sources of variation\n",
    "data.integrated <- ScaleData(object = data.integrated)"
   ]
  },
  {
   "cell_type": "code",
   "execution_count": null,
   "metadata": {},
   "outputs": [],
   "source": [
    "# perform linear dimensional reduction\n",
    "data.integrated <- RunPCA(object = data.integrated, npcs = 30, verbose = FALSE)\n",
    "# examine and visualize PCA results a few different ways\n",
    "print(x = data.integrated[['pca']], dims = 1:5, nfeatures = 5, projected = FALSE)\n",
    "VizDimLoadings(object = data.integrated, dims = 1:2)\n",
    "DimPlot(object = data.integrated)\n",
    "DimPlot(object = data.integrated, group.by=\"sample.effect\")"
   ]
  },
  {
   "cell_type": "code",
   "execution_count": null,
   "metadata": {},
   "outputs": [],
   "source": [
    "# dimensional reduction and clustering\n",
    "data = FindNeighbors(data, dims = 1:16)\n",
    "data = FindClusters(data, resolution = 0.8)"
   ]
  },
  {
   "cell_type": "code",
   "execution_count": null,
   "metadata": {},
   "outputs": [],
   "source": [
    "# perform non-linear dimensional reduction (tSNE)\n",
    "data = RunTSNE(data, dims = 1:16)"
   ]
  },
  {
   "cell_type": "code",
   "execution_count": null,
   "metadata": {},
   "outputs": [],
   "source": [
    "# save data\n",
    "write.table(csf@meta.data, 'meta.data.tsv', sep='\\t')\n",
    "saveRDS(data.integrated, file = \"snRNA-seq.integrated.rds\")\n",
    "saveRDS(data, file = \"snRNA-seq.rds\")"
   ]
  },
  {
   "cell_type": "code",
   "execution_count": 21,
   "metadata": {},
   "outputs": [
    {
     "ename": "ERROR",
     "evalue": "Error: kann Vektor der Größe 331.4 MB nicht allozieren\n",
     "output_type": "error",
     "traceback": [
      "Error: kann Vektor der Größe 331.4 MB nicht allozieren\nTraceback:\n",
      "1. readRDS(\"snRNA-seq.rds\")"
     ]
    }
   ],
   "source": [
    "# visualize data\n",
    "data = readRDS(\"snRNA-seq.rds\")\n",
    "\n",
    "data(palette36) # color palette for clusters\n",
    "colpal = palette36[1:33]\n",
    "colpal = colpal %>% as.vector()"
   ]
  },
  {
   "cell_type": "code",
   "execution_count": 20,
   "metadata": {},
   "outputs": [
    {
     "ename": "ERROR",
     "evalue": "Error: Cannot find 'tsne' in this Seurat object\n",
     "output_type": "error",
     "traceback": [
      "Error: Cannot find 'tsne' in this Seurat object\nTraceback:\n",
      "1. DimPlot(data, reduction = \"tsne\", cols = colpal, label = F, label.size = 5, \n .     pt.size = 1)",
      "2. Embeddings(object = object[[reduction]])",
      "3. object[[reduction]]",
      "4. `[[.Seurat`(object, reduction)",
      "5. stop(\"Cannot find '\", i, \"' in this Seurat object\", call. = FALSE)"
     ]
    }
   ],
   "source": [
    "# tSNE plot and clustering\n",
    "Idents(data) <- \"RNA_snn_res.0.8\"\n",
    "DimPlot(data, reduction = 'tsne', cols = colpal, label = F, label.size = 5, pt.size = 1) + \n",
    "  theme_void() + NoLegend()\n",
    "ggsave('output/tsne.png', plot = last_plot(), scale = 1, dpi = 900)\n",
    "DimPlot(data, reduction = 'tsne', cols = colpal, label = T, label.size = 5, pt.size = 1) + \n",
    "  theme_void()\n",
    "ggsave('output/tsne.pdf', plot = last_plot(), scale = 1)"
   ]
  },
  {
   "cell_type": "code",
   "execution_count": 16,
   "metadata": {},
   "outputs": [
    {
     "name": "stderr",
     "output_type": "stream",
     "text": [
      "Saving 6.67 x 6.67 in image\n",
      "\n",
      "Saving 6.67 x 6.67 in image\n",
      "\n",
      "Saving 6.67 x 6.67 in image\n",
      "\n",
      "Saving 6.67 x 6.67 in image\n",
      "\n",
      "Saving 6.67 x 6.67 in image\n",
      "\n",
      "Saving 6.67 x 6.67 in image\n",
      "\n",
      "Saving 6.67 x 6.67 in image\n",
      "\n",
      "Saving 6.67 x 6.67 in image\n",
      "\n",
      "Saving 6.67 x 6.67 in image\n",
      "\n"
     ]
    }
   ],
   "source": [
    "# signature genes for clusters (from original paper)\n",
    "sig_genes = c('SYT1', 'SLC17A7', 'GAD2', 'AQP4', 'PLP1', 'P2RY12', 'CSF1R', 'CSF1', 'IL34')\n",
    "for (i in 1:length(sig_genes)){\n",
    "    FeaturePlot(data, features = sig_genes[i], label.size = 5, cols = c(\"lightgrey\", \"red3\"), pt.size = 1.5) +\n",
    "        theme_void() + NoLegend() + theme(title = element_blank())\n",
    "    ggsave(paste0('output/', 'tsne_', tolower(sig_genes[i]), '.png'), plot = last_plot(), scale = 1, dpi = 900, bg = \"transparent\")\n",
    "}"
   ]
  },
  {
   "cell_type": "code",
   "execution_count": 17,
   "metadata": {},
   "outputs": [
    {
     "name": "stderr",
     "output_type": "stream",
     "text": [
      "Saving 6.67 x 6.67 in image\n",
      "\n",
      "Saving 6.67 x 6.67 in image\n",
      "\n",
      "Saving 6.67 x 6.67 in image\n",
      "\n"
     ]
    }
   ],
   "source": [
    "# CSF1R and ligands in tsne\n",
    "goi = c('CSF1R', 'IL34', 'CSF1') # define genes of interest\n",
    "for (i in 1:length(goi)){\n",
    "    FeaturePlot(data, features = goi[i], label.size = 5, cols = c(\"lightgrey\", \"red3\"), pt.size = 1.5) +\n",
    "        theme_void() + NoLegend() + theme(title = element_blank())\n",
    "    ggsave(paste0('output/', 'tsne_', tolower(goi[i]), '.png'), plot = last_plot(), scale = 1, dpi = 900)\n",
    "}"
   ]
  },
  {
   "cell_type": "code",
   "execution_count": 18,
   "metadata": {},
   "outputs": [],
   "source": [
    "# cluster-specific expression of CSF1R, CSF1 and IL34\n",
    "goi = c('CSF1R', 'IL34', 'CSF1') # define genes of interest\n",
    "for (i in 1:length(goi)){\n",
    "    Idents(data) <- \"RNA_snn_res.0.8\"\n",
    "    DotPlot(data, features = goi[i], dot.scale = 3, cols = c('red3', 'red3'), split.by = \"diagnosis\") +\n",
    "      theme(text=element_text(size=6,  family=\"sans\"),\n",
    "        axis.text.x = element_text(angle=45, vjust=1, hjust=1, size=6, family=\"sans\"),\n",
    "        axis.text.y = element_text(size=6, family=\"sans\", hjust = 1, vjust = 0.35),\n",
    "        axis.line = element_line(colour = 'black', size = 0.2),\n",
    "        axis.ticks = element_line(colour = 'black', size = 0.2)\n",
    "        )\n",
    "    ggsave(paste0('output/', 'dotplot_', tolower(goi[i]), '_msctrl.pdf'), plot = last_plot(), width = 6, height = 16, units = \"cm\")\n",
    "}"
   ]
  }
 ],
 "metadata": {
  "kernelspec": {
   "display_name": "R 4.0.2",
   "language": "R",
   "name": "ir32"
  },
  "language_info": {
   "codemirror_mode": "r",
   "file_extension": ".r",
   "mimetype": "text/x-r-source",
   "name": "R",
   "pygments_lexer": "r",
   "version": "4.0.2"
  }
 },
 "nbformat": 4,
 "nbformat_minor": 4
}
